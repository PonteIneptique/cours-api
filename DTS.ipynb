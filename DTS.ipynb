{
 "cells": [
  {
   "cell_type": "markdown",
   "metadata": {},
   "source": [
    "Ecole des Chartes implementation demo\n",
    "===\n",
    "\n",
    "The Ecole des Chartes implementation runs on Capitains.org software suite using [Nautilus](http://github.com/capitains/nautilus).\n",
    "\n",
    "A nice API browsing interface has been provided by Julien Pilla : http://dev.chartes.psl.eu/dts-demo/ (Source code : https://github.com/chartes/dts-demo )\n",
    "\n",
    "## Configuration\n",
    "\n",
    "The following cell are used to avoid rewriting to much cells if the address of the DTS API were to change.\n"
   ]
  },
  {
   "cell_type": "code",
   "execution_count": 1,
   "metadata": {},
   "outputs": [],
   "source": [
    "import requests\n",
    "from urllib.parse import urljoin\n",
    "\n",
    "URI = \"http://dev.chartes.psl.eu/api/nautilus/dts\""
   ]
  },
  {
   "cell_type": "markdown",
   "metadata": {},
   "source": [
    "## Getting the available endpoints\n",
    "\n",
    "DTS entry point is a listing of the available endpoints and their URL. This means that for each implementation of DTS, this single URL will give you all the information you need to perform arbitrary queries, if you were to do so. The Ecole des Chartes Capitains implementation provide the three endpoints :"
   ]
  },
  {
   "cell_type": "code",
   "execution_count": 2,
   "metadata": {},
   "outputs": [
    {
     "data": {
      "text/plain": [
       "{'navigation': '/api/nautilus/dts/navigation',\n",
       " 'documents': '/api/nautilus/dts/document',\n",
       " '@context': 'dts/EntryPoint.jsonld',\n",
       " '@id': '/api/nautilus/dts',\n",
       " '@type': 'EntryPoint',\n",
       " 'collections': '/api/nautilus/dts/collections'}"
      ]
     },
     "execution_count": 2,
     "metadata": {},
     "output_type": "execute_result"
    }
   ],
   "source": [
    "entry_request = requests.get(URI)\n",
    "ENDPOINTS = entry_request.json()\n",
    "ENDPOINTS"
   ]
  },
  {
   "cell_type": "markdown",
   "metadata": {},
   "source": [
    "As you can see, all three endpoints have been given URIs. Because we do not know the text we want to see, we'll browse from here :"
   ]
  },
  {
   "cell_type": "markdown",
   "metadata": {},
   "source": [
    "## Browsing the root of the catalog\n",
    "\n",
    "The root of the data catalog is the result of the basic GET request on the `collections` endpoint :"
   ]
  },
  {
   "cell_type": "code",
   "execution_count": 3,
   "metadata": {},
   "outputs": [
    {
     "data": {
      "text/plain": [
       "{'totalItems': 1,\n",
       " '@context': {'@vocab': 'https://www.w3.org/ns/hydra/core#',\n",
       "  'dts': 'https://w3id.org/dts/api#'},\n",
       " 'member': [{'totalItems': 17,\n",
       "   '@id': 'default',\n",
       "   '@type': 'Collection',\n",
       "   'title': 'Default collection'}],\n",
       " '@id': 'defaultTic',\n",
       " '@type': 'Collection',\n",
       " 'title': 'None'}"
      ]
     },
     "execution_count": 3,
     "metadata": {},
     "output_type": "execute_result"
    }
   ],
   "source": [
    "ROOT_COLLECTION  = requests.get(\n",
    "    urljoin(URI, ENDPOINTS[\"collections\"])).json()\n",
    "ROOT_COLLECTION"
   ]
  },
  {
   "cell_type": "markdown",
   "metadata": {},
   "source": [
    "The root collection has 1 item : \"@default\". Let's see what hides behind this mysterious name !"
   ]
  },
  {
   "cell_type": "markdown",
   "metadata": {},
   "source": [
    "## Requesting a specific collection\n",
    "\n",
    "Requesting a specific collection is simple : you go to the Collections endpoint, add the parameter `id` with the `@id` property of your item.\n",
    "\n",
    "### default ?\n",
    "\n",
    "We first want to get the LatinLit collection : it will be at the URI http://dev.chartes.psl.eu/api/nautilus/dts/collections?id=default"
   ]
  },
  {
   "cell_type": "code",
   "execution_count": 4,
   "metadata": {},
   "outputs": [
    {
     "data": {
      "text/plain": [
       "{'totalItems': 17,\n",
       " '@context': {'ns2': 'http://www.w3.org/2004/02/skos/core#',\n",
       "  '@vocab': 'https://www.w3.org/ns/hydra/core#',\n",
       "  'dts': 'https://w3id.org/dts/api#'},\n",
       " 'member': [{'totalItems': 28,\n",
       "   '@id': 'urn:cts:frenchLit:pos2010',\n",
       "   '@type': 'Collection',\n",
       "   'title': \"Positions de thèses de l'École nationale des chartes promotion 2010\"},\n",
       "  {'totalItems': 27,\n",
       "   '@id': 'urn:cts:frenchLit:pos2015',\n",
       "   '@type': 'Collection',\n",
       "   'title': \"Positions de thèses de l'École nationale des chartes promotion 2015\"},\n",
       "  {'totalItems': 24,\n",
       "   '@id': 'urn:cts:frenchLit:pos2011',\n",
       "   '@type': 'Collection',\n",
       "   'title': \"Positions de thèses de l'École nationale des chartes promotion 2011\"},\n",
       "  {'totalItems': 28,\n",
       "   '@id': 'urn:cts:frenchLit:pos2014',\n",
       "   '@type': 'Collection',\n",
       "   'title': \"Positions de thèses de l'École nationale des chartes promotion 2014\"},\n",
       "  {'totalItems': 27,\n",
       "   '@id': 'urn:cts:frenchLit:pos2005',\n",
       "   '@type': 'Collection',\n",
       "   'title': \"Positions de thèses de l'École nationale des chartes promotion 2005\"},\n",
       "  {'totalItems': 24,\n",
       "   '@id': 'urn:cts:frenchLit:pos2001',\n",
       "   '@type': 'Collection',\n",
       "   'title': \"Positions de thèses de l'École nationale des chartes promotion 2001\"},\n",
       "  {'totalItems': 32,\n",
       "   '@id': 'urn:cts:frenchLit:pos2002',\n",
       "   '@type': 'Collection',\n",
       "   'title': \"Positions de thèses de l'École nationale des chartes promotion 2002\"},\n",
       "  {'totalItems': 25,\n",
       "   '@id': 'urn:cts:frenchLit:pos2006',\n",
       "   '@type': 'Collection',\n",
       "   'title': \"Positions de thèses de l'École nationale des chartes promotion 2006\"},\n",
       "  {'totalItems': 6,\n",
       "   '@id': 'urn:cts:froLit:geste',\n",
       "   '@type': 'Collection',\n",
       "   'title': 'Geste'},\n",
       "  {'totalItems': 28,\n",
       "   '@id': 'urn:cts:frenchLit:pos2008',\n",
       "   '@type': 'Collection',\n",
       "   'title': \"Positions de thèses de l'École nationale des chartes promotion 2008\"},\n",
       "  {'totalItems': 26,\n",
       "   '@id': 'urn:cts:frenchLit:pos2012',\n",
       "   '@type': 'Collection',\n",
       "   'title': \"Positions de thèses de l'École nationale des chartes promotion 2012\"},\n",
       "  {'totalItems': 25,\n",
       "   '@id': 'urn:cts:frenchLit:pos2013',\n",
       "   '@type': 'Collection',\n",
       "   'title': \"Positions de thèses de l'École nationale des chartes promotion 2013\"},\n",
       "  {'totalItems': 29,\n",
       "   '@id': 'urn:cts:frenchLit:pos2009',\n",
       "   '@type': 'Collection',\n",
       "   'title': \"Positions de thèses de l'École nationale des chartes promotion 2009\"},\n",
       "  {'totalItems': 25,\n",
       "   '@id': 'urn:cts:frenchLit:pos2003',\n",
       "   '@type': 'Collection',\n",
       "   'title': \"Positions de thèses de l'École nationale des chartes promotion 2003\"},\n",
       "  {'totalItems': 35,\n",
       "   '@id': 'urn:cts:frenchLit:pos2000',\n",
       "   '@type': 'Collection',\n",
       "   'title': \"Positions de thèses de l'École nationale des chartes promotion 2000\"},\n",
       "  {'totalItems': 26,\n",
       "   '@id': 'urn:cts:frenchLit:pos2004',\n",
       "   '@type': 'Collection',\n",
       "   'title': \"Positions de thèses de l'École nationale des chartes promotion 2004\"},\n",
       "  {'totalItems': 25,\n",
       "   '@id': 'urn:cts:frenchLit:pos2007',\n",
       "   '@type': 'Collection',\n",
       "   'title': \"Positions de thèses de l'École nationale des chartes promotion 2007\"}],\n",
       " 'dts:extensions': {'ns2:prefLabel': [{'@language': 'eng',\n",
       "    '@value': 'Default collection'}]},\n",
       " '@id': 'default',\n",
       " '@type': 'Collection',\n",
       " 'title': 'Default collection'}"
      ]
     },
     "execution_count": 4,
     "metadata": {},
     "output_type": "execute_result"
    }
   ],
   "source": [
    "Default_Collection  = requests.get(urljoin(URI, ENDPOINTS[\"collections\"]+\"?id=default\")).json()\n",
    "Default_Collection"
   ]
  },
  {
   "cell_type": "markdown",
   "metadata": {},
   "source": [
    "### Thesis from 2001 !\n",
    "\n",
    "17 Collections ! Much better ! So, today, I am in the mood for reading thesis from the Ecole des Chartes... Let's see what they did in 2001 !"
   ]
  },
  {
   "cell_type": "code",
   "execution_count": 5,
   "metadata": {},
   "outputs": [
    {
     "data": {
      "text/plain": [
       "{'totalItems': 24,\n",
       " '@context': {'@vocab': 'https://www.w3.org/ns/hydra/core#',\n",
       "  'dts': 'https://w3id.org/dts/api#',\n",
       "  'ns1': 'http://purl.org/dc/elements/1.1/',\n",
       "  'ns3': 'http://www.w3.org/2004/02/skos/core#',\n",
       "  'cts': 'http://chs.harvard.edu/xmlns/cts/'},\n",
       " 'member': [{'totalItems': 1,\n",
       "   '@id': 'urn:cts:frenchLit:pos2001.pos200121',\n",
       "   '@type': 'Collection',\n",
       "   'title': 'L’Église cathare du Carcassès (1167-début du '},\n",
       "  {'totalItems': 1,\n",
       "   '@id': 'urn:cts:frenchLit:pos2001.pos200111',\n",
       "   '@type': 'Collection',\n",
       "   'title': 'Édition critique de lettres de Guy Patin (Bibl. nat. de France, Baluze 148)'},\n",
       "  {'totalItems': 1,\n",
       "   '@id': 'urn:cts:frenchLit:pos2001.pos200123',\n",
       "   '@type': 'Collection',\n",
       "   'title': 'L’Exposition universelle de 1867 : apothéose du Second Empire et de la génération de 1830'},\n",
       "  {'totalItems': 1,\n",
       "   '@id': 'urn:cts:frenchLit:pos2001.pos200110',\n",
       "   '@type': 'Collection',\n",
       "   'title': 'Les Français acteurs et spectateurs de l’histoire de Hawaii (1837-1898)'},\n",
       "  {'totalItems': 1,\n",
       "   '@id': 'urn:cts:frenchLit:pos2001.pos200119',\n",
       "   '@type': 'Collection',\n",
       "   'title': 'Le '},\n",
       "  {'totalItems': 1,\n",
       "   '@id': 'urn:cts:frenchLit:pos2001.pos200114',\n",
       "   '@type': 'Collection',\n",
       "   'title': 'Géographie historique du domaine francoprovençal'},\n",
       "  {'totalItems': 1,\n",
       "   '@id': 'urn:cts:frenchLit:pos2001.pos200113',\n",
       "   '@type': 'Collection',\n",
       "   'title': 'Tristan Tzara et le livre : ses éditeurs et ses illustrateurs'},\n",
       "  {'totalItems': 1,\n",
       "   '@id': 'urn:cts:frenchLit:pos2001.pos200102',\n",
       "   '@type': 'Collection',\n",
       "   'title': 'Henri Ghéon et le théâtre'},\n",
       "  {'totalItems': 1,\n",
       "   '@id': 'urn:cts:frenchLit:pos2001.pos200104',\n",
       "   '@type': 'Collection',\n",
       "   'title': 'Beffrois et hôtels de ville de la fin du Moyen Âge en Flandre française'},\n",
       "  {'totalItems': 1,\n",
       "   '@id': 'urn:cts:frenchLit:pos2001.pos200103',\n",
       "   '@type': 'Collection',\n",
       "   'title': 'La représentation de l’architecture islamique à Paris au '},\n",
       "  {'totalItems': 1,\n",
       "   '@id': 'urn:cts:frenchLit:pos2001.pos200107',\n",
       "   '@type': 'Collection',\n",
       "   'title': 'Paul-Émile Victor, biographie d’un explorateur polaire (1907-1995)'},\n",
       "  {'totalItems': 1,\n",
       "   '@id': 'urn:cts:frenchLit:pos2001.pos200122',\n",
       "   '@type': 'Collection',\n",
       "   'title': 'Aspects militaires de la guerre pour la succession de Bourgogne, de Nancy au traité d’Arras (5 janvier 1477-23 décembre 1482)'},\n",
       "  {'totalItems': 1,\n",
       "   '@id': 'urn:cts:frenchLit:pos2001.pos200109',\n",
       "   '@type': 'Collection',\n",
       "   'title': 'Le quartier de l’hôtel Saint-Paul à Paris (1360-1550)'},\n",
       "  {'totalItems': 1,\n",
       "   '@id': 'urn:cts:frenchLit:pos2001.pos200101',\n",
       "   '@type': 'Collection',\n",
       "   'title': 'Le couvent des Mathurins de Paris et l’estampe au '},\n",
       "  {'totalItems': 1,\n",
       "   '@id': 'urn:cts:frenchLit:pos2001.pos200115',\n",
       "   '@type': 'Collection',\n",
       "   'title': 'Le manuscrit Bibl. nat. de France, fr 688 et son traducteur'},\n",
       "  {'totalItems': 1,\n",
       "   '@id': 'urn:cts:frenchLit:pos2001.pos200105',\n",
       "   '@type': 'Collection',\n",
       "   'title': 'Culte et iconographie de saint André en France ('},\n",
       "  {'totalItems': 1,\n",
       "   '@id': 'urn:cts:frenchLit:pos2001.pos200118',\n",
       "   '@type': 'Collection',\n",
       "   'title': 'La bibliothèque médiévale du collège des Cholets'},\n",
       "  {'totalItems': 1,\n",
       "   '@id': 'urn:cts:frenchLit:pos2001.pos200117',\n",
       "   '@type': 'Collection',\n",
       "   'title': 'Les plaidoiries des gens du roi aux parlements de Paris et de Poitiers (1418-1436)'},\n",
       "  {'totalItems': 1,\n",
       "   '@id': 'urn:cts:frenchLit:pos2001.pos200120',\n",
       "   '@type': 'Collection',\n",
       "   'title': 'Correspondance de Jean-Victor Schnetz, directeur de l’Académie de France à Rome, de 1841 à 1846 et de 1853 à 1866'},\n",
       "  {'totalItems': 1,\n",
       "   '@id': 'urn:cts:frenchLit:pos2001.pos200112',\n",
       "   '@type': 'Collection',\n",
       "   'title': 'Le Comité des travaux historiques et scientifiques (1834-1914) : entre animation et contrôle du mouvement scientifique en France'},\n",
       "  {'totalItems': 1,\n",
       "   '@id': 'urn:cts:frenchLit:pos2001.pos200124',\n",
       "   '@type': 'Collection',\n",
       "   'title': 'Concierges et capitaines du château de Vincennes (1258-1418)'},\n",
       "  {'totalItems': 1,\n",
       "   '@id': 'urn:cts:frenchLit:pos2001.pos200106',\n",
       "   '@type': 'Collection',\n",
       "   'title': 'L’exploitation des terroirs dans la terre de la Châtre au '},\n",
       "  {'totalItems': 1,\n",
       "   '@id': 'urn:cts:frenchLit:pos2001.pos200108',\n",
       "   '@type': 'Collection',\n",
       "   'title': 'Un commentaire de la '},\n",
       "  {'totalItems': 1,\n",
       "   '@id': 'urn:cts:frenchLit:pos2001.pos200116',\n",
       "   '@type': 'Collection',\n",
       "   'title': 'L’action de Louis Hautecœur au secrétariat général des Beaux-arts (1940-1944)'}],\n",
       " 'dts:extensions': {'cts:groupname': [{'@language': 'fr',\n",
       "    '@value': \"Positions de thèses de l'École nationale des chartes promotion 2001\"}],\n",
       "  'ns1:date': '2001',\n",
       "  'ns1:identifier': [{'@id': 'http://www.sudoc.fr/013565311'}],\n",
       "  'ns3:prefLabel': [{'@language': 'fr',\n",
       "    '@value': \"Positions de thèses de l'École nationale des chartes promotion 2001\"}],\n",
       "  'ns1:publisher': [{'@language': 'fr',\n",
       "    '@value': 'École nationale des chartes'}]},\n",
       " '@id': 'urn:cts:frenchLit:pos2001',\n",
       " '@type': 'Collection',\n",
       " 'title': \"Positions de thèses de l'École nationale des chartes promotion 2001\"}"
      ]
     },
     "execution_count": 5,
     "metadata": {},
     "output_type": "execute_result"
    }
   ],
   "source": [
    "Theses_2001_Collection  = requests.get(\n",
    "    urljoin(URI, ENDPOINTS[\"collections\"]+\"?id=urn:cts:frenchLit:pos2001\")).json()\n",
    "Theses_2001_Collection"
   ]
  },
  {
   "cell_type": "markdown",
   "metadata": {},
   "source": [
    "### La bibliothèque médiévale du collège des Cholets\n",
    "\n",
    "So two things :\n",
    "1. We have more collections. We'll go see `La bibliothèque médiévale du collège des Cholets` (`@id=urn:cts:frenchLit:pos2001.pos200118`).\n",
    "2. We have Qualified Dublin Core metadata in `dts:dublincore` !\n",
    "    1. The publisher is described !\n",
    "    2. We even have a Sudoc Identifier : http://www.sudoc.fr/013565311 !\n",
    "    3. We have the Machine Readable Date ! (Or at least close ?)\n",
    "Wait, it has again another collection. Let's go ! Let's see where this ends !"
   ]
  },
  {
   "cell_type": "code",
   "execution_count": 6,
   "metadata": {},
   "outputs": [
    {
     "data": {
      "text/plain": [
       "{'totalItems': 1,\n",
       " 'dts:dublincore': {'dct:relation': [{'@id': 'http://www.sudoc.fr/149664052'}]},\n",
       " '@context': {'@vocab': 'https://www.w3.org/ns/hydra/core#',\n",
       "  'dts': 'https://w3id.org/dts/api#',\n",
       "  'ns3': 'http://www.w3.org/2004/02/skos/core#',\n",
       "  'dct': 'http://purl.org/dc/terms/',\n",
       "  'ns1': 'http://purl.org/dc/elements/1.1/',\n",
       "  'cts': 'http://chs.harvard.edu/xmlns/cts/'},\n",
       " 'member': [{'totalItems': 0,\n",
       "   'dts:passage': '/api/nautilus/dts/document?id=urn%3Acts%3AfrenchLit%3Apos2001.pos200118.positionThese-fr1',\n",
       "   'dts:references': '/api/nautilus/dts/navigation?id=urn%3Acts%3AfrenchLit%3Apos2001.pos200118.positionThese-fr1',\n",
       "   'dts:citeDepth': 2,\n",
       "   'dts:extensions': {'cts:label': [{'@language': 'fr',\n",
       "      '@value': 'La bibliothèque médiévale du collège des Cholets'}],\n",
       "    'ns3:prefLabel': [{'@language': 'fr',\n",
       "      '@value': 'La bibliothèque médiévale du collège des Cholets'}],\n",
       "    'ns1:language': 'fr'},\n",
       "   '@id': 'urn:cts:frenchLit:pos2001.pos200118.positionThese-fr1',\n",
       "   '@type': 'Resource',\n",
       "   'dts:citeStructure': {'dts:citeStructure': [{'dts:citeType': 'Partie'}],\n",
       "    'dts:citeType': 'Section'},\n",
       "   'title': 'La bibliothèque médiévale du collège des Cholets'}],\n",
       " 'dts:extensions': {'ns1:date': '2001',\n",
       "  'ns3:prefLabel': [{'@language': 'fr',\n",
       "    '@value': 'La bibliothèque médiévale du collège des Cholets'}],\n",
       "  'ns1:language': 'fr',\n",
       "  'ns1:creator': [{'@language': 'fr', '@value': 'Rebmeister, Karine'}],\n",
       "  'cts:title': [{'@language': 'fr',\n",
       "    '@value': 'La bibliothèque médiévale du collège des Cholets'}],\n",
       "  'ns1:publisher': [{'@language': 'fr',\n",
       "    '@value': 'École nationale des chartes'}]},\n",
       " '@id': 'urn:cts:frenchLit:pos2001.pos200118',\n",
       " '@type': 'Collection',\n",
       " 'title': 'La bibliothèque médiévale du collège des Cholets'}"
      ]
     },
     "execution_count": 6,
     "metadata": {},
     "output_type": "execute_result"
    }
   ],
   "source": [
    "Cholets_Collection  = requests.get(\n",
    "    urljoin(URI, ENDPOINTS[\"collections\"]+\"?id=urn:cts:frenchLit:pos2001.pos200118\")\n",
    ").json()\n",
    "Cholets_Collection"
   ]
  },
  {
   "cell_type": "markdown",
   "metadata": {},
   "source": [
    "### Edition of La bibliothèque médiévale du collège des Cholets\n",
    "Wait, the next one seems more complicated, let's request this single collection and read what's in there :"
   ]
  },
  {
   "cell_type": "code",
   "execution_count": 7,
   "metadata": {},
   "outputs": [
    {
     "data": {
      "text/plain": [
       "{'totalItems': 0,\n",
       " '@context': {'@vocab': 'https://www.w3.org/ns/hydra/core#',\n",
       "  'dts': 'https://w3id.org/dts/api#',\n",
       "  'ns1': 'http://purl.org/dc/elements/1.1/',\n",
       "  'ns3': 'http://www.w3.org/2004/02/skos/core#',\n",
       "  'cts': 'http://chs.harvard.edu/xmlns/cts/'},\n",
       " 'dts:passage': '/api/nautilus/dts/document?id=urn%3Acts%3AfrenchLit%3Apos2001.pos200118.positionThese-fr1',\n",
       " 'dts:references': '/api/nautilus/dts/navigation?id=urn%3Acts%3AfrenchLit%3Apos2001.pos200118.positionThese-fr1',\n",
       " 'dts:citeDepth': 2,\n",
       " 'dts:extensions': {'cts:label': [{'@language': 'fr',\n",
       "    '@value': 'La bibliothèque médiévale du collège des Cholets'}],\n",
       "  'ns3:prefLabel': [{'@language': 'fr',\n",
       "    '@value': 'La bibliothèque médiévale du collège des Cholets'}],\n",
       "  'ns1:language': 'fr'},\n",
       " '@id': 'urn:cts:frenchLit:pos2001.pos200118.positionThese-fr1',\n",
       " '@type': 'Resource',\n",
       " 'dts:citeStructure': {'dts:citeStructure': [{'dts:citeType': 'Partie'}],\n",
       "  'dts:citeType': 'Section'},\n",
       " 'title': 'La bibliothèque médiévale du collège des Cholets'}"
      ]
     },
     "execution_count": 7,
     "metadata": {},
     "output_type": "execute_result"
    }
   ],
   "source": [
    "Cholets_Edition_Collection  = requests.get(\n",
    "    urljoin(URI, ENDPOINTS[\"collections\"]+\"?id=urn%3Acts%3AfrenchLit%3Apos2001.pos200118.positionThese-fr1\")\n",
    ").json()\n",
    "Cholets_Edition_Collection"
   ]
  },
  {
   "cell_type": "markdown",
   "metadata": {},
   "source": [
    "So, there is few things we can see:\n",
    "\n",
    "- There is prefLabels again, and some value for `cts` ontology properties.\n",
    "- More importantly, the `@type` is not `Collection` anymore ! This means the current Collection can actually be read, it's not only metadata. Good to know hmm ?\n",
    "- You see the `dts:citeDepth` ? It means the text has two levels of citation. In the context of this collection, the data curator actually explicited them in `dts:citeStructure` :\n",
    "    1. The first level has the name `Section`. This level has a second level:\n",
    "        1. The second of the level inside poem has the name `Partie`\n",
    "\n",
    "Now, we have two really interesting links, let's go see what's in there !"
   ]
  },
  {
   "cell_type": "markdown",
   "metadata": {},
   "source": [
    "## What are the passages that I can single out in the Edition of La bibliothèque médiévale du collège des Cholets ?\n",
    "\n",
    "To reply to this long but quite clear title, there is only one thing to do : go to the `dts:references` URI we see here.\n",
    "\n",
    "But wait, see the URI ? It's actually a simple construction :\n",
    "\n",
    "- We use `navigation` from `ENDPOINTS`.\n",
    "- We add the `@id` of the Resource we are interested in !\n",
    "\n",
    "### All the *Parties* !"
   ]
  },
  {
   "cell_type": "code",
   "execution_count": 8,
   "metadata": {},
   "outputs": [
    {
     "data": {
      "text/plain": [
       "{'@context': {'@vocab': 'https://www.w3.org/ns/hydra/core#',\n",
       "  'dts': 'https://w3id.org/dts/api#'},\n",
       " 'dts:passage': '/api/nautilus/dts/document?id=urn%3Acts%3AfrenchLit%3Apos2001.pos200118.positionThese-fr1{&ref}{&start}{&end}',\n",
       " 'dts:citeType': 'Section',\n",
       " 'dts:citeDepth': 2,\n",
       " 'member': [{'ref': '1'},\n",
       "  {'ref': '2'},\n",
       "  {'ref': '3'},\n",
       "  {'ref': '4'},\n",
       "  {'ref': '5'},\n",
       "  {'ref': '6'}],\n",
       " '@id': '/api/nautilus/dts/navigation?groupBy=1&id=urn%3Acts%3AfrenchLit%3Apos2001.pos200118.positionThese-fr1&level=1',\n",
       " 'dts:level': 1}"
      ]
     },
     "execution_count": 8,
     "metadata": {},
     "output_type": "execute_result"
    }
   ],
   "source": [
    "Parties_Cholets = requests.get(\n",
    "    urljoin(URI, Cholets_Edition_Collection[\"dts:references\"])).json()\n",
    "Parties_Cholets"
   ]
  },
  {
   "cell_type": "markdown",
   "metadata": {},
   "source": [
    "There is 6 Parties ! Good. Let's see how many sections there is !\n",
    "\n",
    "### All the *Sections* !\n",
    "\n",
    "But wait, didn't we say there was a second level ? Let's see what are all the *Sections* in this text !"
   ]
  },
  {
   "cell_type": "code",
   "execution_count": 9,
   "metadata": {
    "scrolled": true
   },
   "outputs": [
    {
     "data": {
      "text/plain": [
       "{'@context': {'@vocab': 'https://www.w3.org/ns/hydra/core#',\n",
       "  'dts': 'https://w3id.org/dts/api#'},\n",
       " 'dts:passage': '/api/nautilus/dts/document?id=urn%3Acts%3AfrenchLit%3Apos2001.pos200118.positionThese-fr1{&ref}{&start}{&end}',\n",
       " 'dts:citeType': 'Partie',\n",
       " 'dts:citeDepth': 2,\n",
       " 'member': [{'ref': '3.1'},\n",
       "  {'ref': '3.2'},\n",
       "  {'ref': '3.3'},\n",
       "  {'ref': '3.4'},\n",
       "  {'ref': '4.1'},\n",
       "  {'ref': '4.2'},\n",
       "  {'ref': '4.3'}],\n",
       " '@id': '/api/nautilus/dts/navigation?groupBy=1&id=urn%3Acts%3AfrenchLit%3Apos2001.pos200118.positionThese-fr1&level=2',\n",
       " 'dts:level': 2}"
      ]
     },
     "execution_count": 9,
     "metadata": {},
     "output_type": "execute_result"
    }
   ],
   "source": [
    "Section_Cholets = requests.get(\n",
    "    urljoin(URI, Cholets_Edition_Collection[\"dts:references\"]+\"&level=2\")).json()\n",
    "Section_Cholets"
   ]
  },
  {
   "cell_type": "markdown",
   "metadata": {},
   "source": [
    "See ? Apparently, the Parties `1`, `2`, `5` and `6` have no children. \n",
    "\n",
    "### Error message when something does not exist !\n",
    "Let's check though :"
   ]
  },
  {
   "cell_type": "code",
   "execution_count": 10,
   "metadata": {},
   "outputs": [
    {
     "name": "stdout",
     "output_type": "stream",
     "text": [
      "http://dev.chartes.psl.eu/api/nautilus/dts/navigation?id=urn%3Acts%3AfrenchLit%3Apos2001.pos200118.positionThese-fr1&ref=1\n"
     ]
    },
    {
     "ename": "JSONDecodeError",
     "evalue": "Expecting value: line 1 column 1 (char 0)",
     "output_type": "error",
     "traceback": [
      "\u001b[0;31m---------------------------------------------------------------------------\u001b[0m",
      "\u001b[0;31mJSONDecodeError\u001b[0m                           Traceback (most recent call last)",
      "\u001b[0;32m<ipython-input-10-045af83b1448>\u001b[0m in \u001b[0;36m<module>\u001b[0;34m\u001b[0m\n\u001b[1;32m      1\u001b[0m \u001b[0mprint\u001b[0m\u001b[0;34m(\u001b[0m\u001b[0murljoin\u001b[0m\u001b[0;34m(\u001b[0m\u001b[0mURI\u001b[0m\u001b[0;34m,\u001b[0m \u001b[0mCholets_Edition_Collection\u001b[0m\u001b[0;34m[\u001b[0m\u001b[0;34m\"dts:references\"\u001b[0m\u001b[0;34m]\u001b[0m\u001b[0;34m+\u001b[0m\u001b[0;34m\"&ref=1\"\u001b[0m\u001b[0;34m)\u001b[0m\u001b[0;34m)\u001b[0m\u001b[0;34m\u001b[0m\u001b[0;34m\u001b[0m\u001b[0m\n\u001b[1;32m      2\u001b[0m Section_Cholets_Partie_1 = requests.get(\n\u001b[0;32m----> 3\u001b[0;31m     urljoin(URI, Cholets_Edition_Collection[\"dts:references\"]+\"&ref=1\")).json()\n\u001b[0m\u001b[1;32m      4\u001b[0m \u001b[0mSection_Cholets_Partie_1\u001b[0m\u001b[0;34m\u001b[0m\u001b[0;34m\u001b[0m\u001b[0m\n\u001b[1;32m      5\u001b[0m \u001b[0;34m\u001b[0m\u001b[0m\n",
      "\u001b[0;32m~/.cours-python/lib/python3.6/site-packages/requests/models.py\u001b[0m in \u001b[0;36mjson\u001b[0;34m(self, **kwargs)\u001b[0m\n\u001b[1;32m    895\u001b[0m                     \u001b[0;31m# used.\u001b[0m\u001b[0;34m\u001b[0m\u001b[0;34m\u001b[0m\u001b[0;34m\u001b[0m\u001b[0m\n\u001b[1;32m    896\u001b[0m                     \u001b[0;32mpass\u001b[0m\u001b[0;34m\u001b[0m\u001b[0;34m\u001b[0m\u001b[0m\n\u001b[0;32m--> 897\u001b[0;31m         \u001b[0;32mreturn\u001b[0m \u001b[0mcomplexjson\u001b[0m\u001b[0;34m.\u001b[0m\u001b[0mloads\u001b[0m\u001b[0;34m(\u001b[0m\u001b[0mself\u001b[0m\u001b[0;34m.\u001b[0m\u001b[0mtext\u001b[0m\u001b[0;34m,\u001b[0m \u001b[0;34m**\u001b[0m\u001b[0mkwargs\u001b[0m\u001b[0;34m)\u001b[0m\u001b[0;34m\u001b[0m\u001b[0;34m\u001b[0m\u001b[0m\n\u001b[0m\u001b[1;32m    898\u001b[0m \u001b[0;34m\u001b[0m\u001b[0m\n\u001b[1;32m    899\u001b[0m     \u001b[0;34m@\u001b[0m\u001b[0mproperty\u001b[0m\u001b[0;34m\u001b[0m\u001b[0;34m\u001b[0m\u001b[0m\n",
      "\u001b[0;32m/usr/lib/python3.6/json/__init__.py\u001b[0m in \u001b[0;36mloads\u001b[0;34m(s, encoding, cls, object_hook, parse_float, parse_int, parse_constant, object_pairs_hook, **kw)\u001b[0m\n\u001b[1;32m    352\u001b[0m             \u001b[0mparse_int\u001b[0m \u001b[0;32mis\u001b[0m \u001b[0;32mNone\u001b[0m \u001b[0;32mand\u001b[0m \u001b[0mparse_float\u001b[0m \u001b[0;32mis\u001b[0m \u001b[0;32mNone\u001b[0m \u001b[0;32mand\u001b[0m\u001b[0;34m\u001b[0m\u001b[0;34m\u001b[0m\u001b[0m\n\u001b[1;32m    353\u001b[0m             parse_constant is None and object_pairs_hook is None and not kw):\n\u001b[0;32m--> 354\u001b[0;31m         \u001b[0;32mreturn\u001b[0m \u001b[0m_default_decoder\u001b[0m\u001b[0;34m.\u001b[0m\u001b[0mdecode\u001b[0m\u001b[0;34m(\u001b[0m\u001b[0ms\u001b[0m\u001b[0;34m)\u001b[0m\u001b[0;34m\u001b[0m\u001b[0;34m\u001b[0m\u001b[0m\n\u001b[0m\u001b[1;32m    355\u001b[0m     \u001b[0;32mif\u001b[0m \u001b[0mcls\u001b[0m \u001b[0;32mis\u001b[0m \u001b[0;32mNone\u001b[0m\u001b[0;34m:\u001b[0m\u001b[0;34m\u001b[0m\u001b[0;34m\u001b[0m\u001b[0m\n\u001b[1;32m    356\u001b[0m         \u001b[0mcls\u001b[0m \u001b[0;34m=\u001b[0m \u001b[0mJSONDecoder\u001b[0m\u001b[0;34m\u001b[0m\u001b[0;34m\u001b[0m\u001b[0m\n",
      "\u001b[0;32m/usr/lib/python3.6/json/decoder.py\u001b[0m in \u001b[0;36mdecode\u001b[0;34m(self, s, _w)\u001b[0m\n\u001b[1;32m    337\u001b[0m \u001b[0;34m\u001b[0m\u001b[0m\n\u001b[1;32m    338\u001b[0m         \"\"\"\n\u001b[0;32m--> 339\u001b[0;31m         \u001b[0mobj\u001b[0m\u001b[0;34m,\u001b[0m \u001b[0mend\u001b[0m \u001b[0;34m=\u001b[0m \u001b[0mself\u001b[0m\u001b[0;34m.\u001b[0m\u001b[0mraw_decode\u001b[0m\u001b[0;34m(\u001b[0m\u001b[0ms\u001b[0m\u001b[0;34m,\u001b[0m \u001b[0midx\u001b[0m\u001b[0;34m=\u001b[0m\u001b[0m_w\u001b[0m\u001b[0;34m(\u001b[0m\u001b[0ms\u001b[0m\u001b[0;34m,\u001b[0m \u001b[0;36m0\u001b[0m\u001b[0;34m)\u001b[0m\u001b[0;34m.\u001b[0m\u001b[0mend\u001b[0m\u001b[0;34m(\u001b[0m\u001b[0;34m)\u001b[0m\u001b[0;34m)\u001b[0m\u001b[0;34m\u001b[0m\u001b[0;34m\u001b[0m\u001b[0m\n\u001b[0m\u001b[1;32m    340\u001b[0m         \u001b[0mend\u001b[0m \u001b[0;34m=\u001b[0m \u001b[0m_w\u001b[0m\u001b[0;34m(\u001b[0m\u001b[0ms\u001b[0m\u001b[0;34m,\u001b[0m \u001b[0mend\u001b[0m\u001b[0;34m)\u001b[0m\u001b[0;34m.\u001b[0m\u001b[0mend\u001b[0m\u001b[0;34m(\u001b[0m\u001b[0;34m)\u001b[0m\u001b[0;34m\u001b[0m\u001b[0;34m\u001b[0m\u001b[0m\n\u001b[1;32m    341\u001b[0m         \u001b[0;32mif\u001b[0m \u001b[0mend\u001b[0m \u001b[0;34m!=\u001b[0m \u001b[0mlen\u001b[0m\u001b[0;34m(\u001b[0m\u001b[0ms\u001b[0m\u001b[0;34m)\u001b[0m\u001b[0;34m:\u001b[0m\u001b[0;34m\u001b[0m\u001b[0;34m\u001b[0m\u001b[0m\n",
      "\u001b[0;32m/usr/lib/python3.6/json/decoder.py\u001b[0m in \u001b[0;36mraw_decode\u001b[0;34m(self, s, idx)\u001b[0m\n\u001b[1;32m    355\u001b[0m             \u001b[0mobj\u001b[0m\u001b[0;34m,\u001b[0m \u001b[0mend\u001b[0m \u001b[0;34m=\u001b[0m \u001b[0mself\u001b[0m\u001b[0;34m.\u001b[0m\u001b[0mscan_once\u001b[0m\u001b[0;34m(\u001b[0m\u001b[0ms\u001b[0m\u001b[0;34m,\u001b[0m \u001b[0midx\u001b[0m\u001b[0;34m)\u001b[0m\u001b[0;34m\u001b[0m\u001b[0;34m\u001b[0m\u001b[0m\n\u001b[1;32m    356\u001b[0m         \u001b[0;32mexcept\u001b[0m \u001b[0mStopIteration\u001b[0m \u001b[0;32mas\u001b[0m \u001b[0merr\u001b[0m\u001b[0;34m:\u001b[0m\u001b[0;34m\u001b[0m\u001b[0;34m\u001b[0m\u001b[0m\n\u001b[0;32m--> 357\u001b[0;31m             \u001b[0;32mraise\u001b[0m \u001b[0mJSONDecodeError\u001b[0m\u001b[0;34m(\u001b[0m\u001b[0;34m\"Expecting value\"\u001b[0m\u001b[0;34m,\u001b[0m \u001b[0ms\u001b[0m\u001b[0;34m,\u001b[0m \u001b[0merr\u001b[0m\u001b[0;34m.\u001b[0m\u001b[0mvalue\u001b[0m\u001b[0;34m)\u001b[0m \u001b[0;32mfrom\u001b[0m \u001b[0;32mNone\u001b[0m\u001b[0;34m\u001b[0m\u001b[0;34m\u001b[0m\u001b[0m\n\u001b[0m\u001b[1;32m    358\u001b[0m         \u001b[0;32mreturn\u001b[0m \u001b[0mobj\u001b[0m\u001b[0;34m,\u001b[0m \u001b[0mend\u001b[0m\u001b[0;34m\u001b[0m\u001b[0;34m\u001b[0m\u001b[0m\n",
      "\u001b[0;31mJSONDecodeError\u001b[0m: Expecting value: line 1 column 1 (char 0)"
     ]
    }
   ],
   "source": [
    "print(urljoin(URI, Cholets_Edition_Collection[\"dts:references\"]+\"&ref=1\"))\n",
    "Section_Cholets_Partie_1 = requests.get(\n",
    "    urljoin(URI, Cholets_Edition_Collection[\"dts:references\"]+\"&ref=1\")).json()\n",
    "Section_Cholets_Partie_1\n",
    "\n",
    "# This is a bug that needs to be addressed. We should have an error message with 404 or something !"
   ]
  },
  {
   "cell_type": "markdown",
   "metadata": {},
   "source": [
    "## Getting the text\n",
    "\n",
    "Now that we can see what are the available passage, why not getting to the text passages ?\n",
    "\n",
    "Let see... We build this the same way than the Navigation query ! But instead, we use `document` from the entry point !\n",
    "\n",
    "### Getting an excerpt\n"
   ]
  },
  {
   "cell_type": "code",
   "execution_count": 11,
   "metadata": {},
   "outputs": [
    {
     "name": "stdout",
     "output_type": "stream",
     "text": [
      "http://dev.chartes.psl.eu/api/nautilus/dts/document?id=urn%3Acts%3AfrenchLit%3Apos2001.pos200118.positionThese-fr1&ref=1\n",
      "<TEI xmlns=\"http://www.tei-c.org/ns/1.0\" xmlns:py=\"http://codespeak.net/lxml/objectify/pytype\" xml:lang=\"fr\" xml:id=\"position-200118\" py:pytype=\"TREE\"><dts:fragment xmlns:dts=\"https://w3id.org/dts/api#\"><text><body xml:lang=\"fr\" n=\"urn:cts:frenchLit:pos2001.pos200118.positionThese-fr1\"><div type=\"introduction\" n=\"1\"><head>Introduction</head><p>Les historiens ne se sont intéressés que récemment aux bibliothèques de collèges, dont la documentation est moins riche et plus dispersée\n",
      "          que les fonds monastiques ou de particuliers. Les travaux pionniers d’Elisabeth Pellegrin sur les bibliothèques des collèges parisiens de\n",
      "          Dormans-Beauvais, de Hubant et de Fortet, ont donné lieu à des articles très riches, mais les monographies sur le sujet restent rares.</p><p>Le collège des Cholets, étudié en 1971 par Elisabeth Rabut dans sa thèse d’Ecole des chartes, a été fondé à Paris en 1295 pour des\n",
      "          étudiants originaires des diocèses de Beauvais et d’Amiens, avec l’argent qui restait de la succession du cardinal Jean Cholet, mort en\n",
      "          1292. Sa bibliothèque n’a donc aucun lien avec celle du cardinal Cholet, et son étude ne peut reposer sur un « noyau primitif » qu’aurait\n",
      "          légué le fondateur.</p></div></body></text></dts:fragment></TEI>\n"
     ]
    }
   ],
   "source": [
    "Cholet_Partie_1 = requests.get(\n",
    "    urljoin(URI, Cholets_Edition_Collection[\"dts:passage\"]+\"&ref=1\")\n",
    ")\n",
    "print(\n",
    "    urljoin(URI, Cholets_Edition_Collection[\"dts:passage\"]+\"&ref=1\")\n",
    ")\n",
    "print(Cholet_Partie_1.text)"
   ]
  },
  {
   "cell_type": "markdown",
   "metadata": {},
   "source": [
    "### Getting the whole text\n",
    "\n",
    "That's nice ! But the text seems fairly small, so why not requesting the whole text ? "
   ]
  },
  {
   "cell_type": "code",
   "execution_count": 12,
   "metadata": {},
   "outputs": [
    {
     "name": "stdout",
     "output_type": "stream",
     "text": [
      "http://dev.chartes.psl.eu/api/nautilus/dts/document?id=urn%3Acts%3AfrenchLit%3Apos2001.pos200118.positionThese-fr1\n",
      "<TEI xmlns=\"http://www.tei-c.org/ns/1.0\" xml:lang=\"fr\" xml:id=\"position-200118\"><teiHeader><fileDesc><titleStmt><title xml:lang=\"fr\" type=\"main\">La bibliothèque médiévale du collège des Cholets</title><author key=\"200118_rebmeister\" ref=\"060918705\">Karine Rebmeister</author></titleStmt><editionStmt><edition>École des chartes</edition></editionStmt><publicationStmt><publisher>École des chartes</publisher><date when=\"2001\"/><availability status=\"restricted\"><licence target=\"http://creativecommons.org/licenses/by-nc-nd/3.0/fr/\"/></availability></publicationStmt><seriesStmt><title>Positions des thèses</title><idno type=\"ISSN\">0755-2976</idno><idno type=\"URI\">http://www.sudoc.fr/013565311</idno></seriesStmt><sourceDesc><bibl><title>Positions des thèses soutenues par les élèves de la promotion de 2001 pour obtenir le diplôme d’archiviste paléographe</title>, <pubPlace>Paris</pubPlace>, <publisher>École des chartes</publisher>, <date>1999</date>, <biblScope unit=\"page\" from=\"33\" to=\"43\">33-43</biblScope>.</bibl></sourceDesc></fileDesc><profileDesc><creation><date when=\"2018\"/></creation><langUsage><language ident=\"fr\"/></langUsage></profileDesc><encodingDesc><refsDecl n=\"CTS\"><cRefPattern n=\"Partie\" matchPattern=\"(\\w+).(\\w+)\" replacementPattern=\"#xpath(/tei:TEI/tei:text/tei:body/tei:div[@n='$1']//tei:div[@n='$2' and @type='chapter'])\"><p>This pointer pattern extracts chapters</p></cRefPattern><cRefPattern n=\"Section\" matchPattern=\"(\\w+)\" replacementPattern=\"#xpath(/tei:TEI/tei:text/tei:body/tei:div[@n='$1'])\"><p>This pointer pattern extracts introduction, sources, parts, conclusion and appendix</p></cRefPattern></refsDecl></encodingDesc></teiHeader><text><body xml:lang=\"fr\" n=\"urn:cts:frenchLit:pos2001.pos200118.positionThese-fr1\"><div type=\"introduction\" n=\"1\"><head>Introduction</head><p>Les historiens ne se sont intéressés que récemment aux bibliothèques de collèges, dont la documentation est moins riche et plus dispersée\n",
      "          que les fonds monastiques ou de particuliers. Les travaux pionniers d’Elisabeth Pellegrin sur les bibliothèques des collèges parisiens de\n",
      "          Dormans-Beauvais, de Hubant et de Fortet, ont donné lieu à des articles très riches, mais les monographies sur le sujet restent rares.</p><p>Le collège des Cholets, étudié en 1971 par Elisabeth Rabut dans sa thèse d’Ecole des chartes, a été fondé à Paris en 1295 pour des\n",
      "          étudiants originaires des diocèses de Beauvais et d’Amiens, avec l’argent qui restait de la succession du cardinal Jean Cholet, mort en\n",
      "          1292. Sa bibliothèque n’a donc aucun lien avec celle du cardinal Cholet, et son étude ne peut reposer sur un « noyau primitif » qu’aurait\n",
      "          légué le fondateur.</p></div><div type=\"sources\" n=\"2\"><head>Sources</head><p>Aucun catalogue médiéval de la bibliothèque des Cholets n’a été conservé. Il a fallu recourir à l’ensemble des sources disponibles pour\n",
      "          cette période, principalement des testaments et les différents obituaires du collège, conservés dans la série M des Archives nationales, aux\n",
      "          archives départementales de la Somme et de l’Oise, pour tenter d’en reconstituer le contenu au Moyen Age. Trois catalogues subsistent pour\n",
      "          l’époque moderne : le plus ancien (A) remonte à la fin du <num>xvii<hi rend=\"sup\">e</hi></num> siècle (Bibl. de l’Arsenal, 4630) et les deux autres\n",
      "          datent du début du <num>xviii<hi rend=\"sup\">e</hi></num> siècle (Bibl. nat. de France, lat. 13068, désormais B ; Arch. nat., S 6183, désormais C).\n",
      "          Quarante-cinq manuscrits subsistants proviennent des Cholets : ils sont pour la plupart conservés à la bibliothèque de la Sorbonne\n",
      "          (trente-cinq manuscrits) ; six autres sont à la Bibliothèque nationale d’Autriche, à Vienne.</p></div><div n=\"3\" type=\"part\"><head n=\"0\" type=\"chapter\">La bibliothèque au Moyen Age (1295- environ 1530)</head><div n=\"1\" type=\"chapter\"><head n=\"Chapitre premier\">Les origines de la bibliothèque</head><p><hi rend=\"i\">Les premières années </hi>— L’existence d’une « libraria » n’est pas attestée avant 1301, date de la rédaction des seconds\n",
      "            statuts du collège. Dès 1295 cependant, les exécuteurs testamentaires de Jean Cholet, Gérard de Saint-Just et Evrard de Nointel,\n",
      "            véritables fondateurs du collège, prennent des mesures concernant l’achat de livres.</p><p><hi rend=\"i\">Les statuts de 1301 </hi>— En 1301, le cardinal Jean Lemoine, chargé de poursuivre l’exécution testamentaire de Jean Cholet\n",
      "            après la mort de Gérard de Saint-Just et d’Evrard de Nointel, donne au collège ses seconds statuts. Ceux-ci consacrent un paragraphe à la\n",
      "            bibliothèque et aux boursiers qui en ont la charge, les « librarii » : étudiants en théologie, par ailleurs responsables de la formation\n",
      "            des boursiers artiens, ils doivent présenter chaque année, dans la première semaine du Carême, un inventaire à jour des livres de la\n",
      "            bibliothèque. Ces statuts, largement stéréotypés, ressemblent à ceux de nombreux collèges contemporains, comme celui du Cardinal\n",
      "            Lemoine.</p></div><div n=\"2\" type=\"chapter\"><head n=\"Chapitre II\">Le fonctionnement de la bibliothèque</head><p><hi rend=\"i\">Disposition des lieux </hi>— L’emplacement précis de la bibliothèque à l’intérieur du collège n’est pas connu avant le\n",
      "            début du <num>xvii<hi rend=\"sup\">e</hi></num> siècle. Les livres y étaient enchaînés sur des pupitres. Il y avait par ailleurs des livres dans la\n",
      "            chapelle Saint-Symphorien, qui dépendait de l’abbaye Sainte-Geneviève et était utilisée par le collège jusqu’à la construction de sa\n",
      "            propre chapelle au début du <num>xvi<hi rend=\"sup\">e</hi></num> siècle.</p><p><hi rend=\"i\">Le statut des librarii </hi>— Les bibliothécaires étaient élus chaque année par l’ensemble des boursiers théologiens. Ils\n",
      "            devaient être originaires, l’un du diocèse d’Amiens, l’autre du diocèse de Beauvais. Ni leurs noms ni le montant de leur rémunération ne\n",
      "            sont connus pour la période médiévale. Cette fonction, honorifique, était exercée à tour de rôle par les boursiers, en plus de leurs\n",
      "            études : ce n’était donc en rien un emploi, au sens actuel du terme.</p><p><hi rend=\"i\">La constitution du fonds </hi>— Une bibliothèque de collège au Moyen Age, et de ce point de vue les Cholets ne font pas\n",
      "            exception, s’enrichissait de trois façons : par dons et legs, par achats, par copie de manuscrits. Les dons et les legs constituaient de\n",
      "            loin la première source d’acquisition : le collège des Cholets a ainsi bénéficié des libéralités de plus de vingt personnes (vingt-et-une,\n",
      "            peut-être vingt-deux), que l’on connaît grâce aux testaments, aux obituaires du collège et aux manuscrits subsistants. La diversité de ces\n",
      "            sources d’information, qui dans quelques cas se recoupent ou se complètent, explique l’hétérogénéité des témoignages apportés : certains\n",
      "            dons, certains legs sont connus dans le détail, d’autres seulement évoqués par une mention portée sur le feuillet de garde d’un manuscrit.\n",
      "            Ils sont mieux connus au <num>xv<hi rend=\"sup\">e</hi></num> siècle (douze ou treize cas) et au début du <num>xvi<hi rend=\"sup\">e</hi></num> siècle (quatre\n",
      "            cas) qu’au <num>xiv<hi rend=\"sup\">e</hi></num> siècle (cinq cas), moins documenté. Ces donateurs sont tous, à quatre exceptions près, d’anciens\n",
      "            boursiers des Cholets. Ils représentent, pour autant qu’on puisse le mesurer, environ 10 % de l’ensemble des boursiers accueillis au\n",
      "            collège entre 1295 et 1500 : 10 % à s’être souciés de l’enrichissement de la bibliothèque et de son avenir.</p><p>Les achats et les copies de manuscrits effectués par le collège ou à sa demande sont moins bien connus ; le collège des Cholets n’a pas\n",
      "            conservé, comme celui de Dormans-Beauvais, de séries complètes de comptes médiévaux mentionnant des livres. Les principaux renseignements\n",
      "            sur ces modes d’acquisition viennent des manuscrits subsistants, quand ils portent encore des mentions de prix ou de copiste. La plupart\n",
      "            de ces mentions toutefois sont susceptibles d’être antérieures à l’entrée du volume dans la bibliothèque du collège, et doivent donc être\n",
      "            considérées avec précaution. L’achat de manuscrits pose également la question du budget de la bibliothèque : elle ne semble pas avoir\n",
      "            disposé d’un budget propre, et le produit des amendes infligées aux boursiers détériorant des livres allait vraisemblablement dans la\n",
      "            caisse commune. Il n’y avait pas non plus de scriptorium aux Cholets : l’activité de copie de certains boursiers, comme Nicolas Bertoul,\n",
      "            était indépendante de leur appartenance au collège et se faisait d’abord à des fins personnelles.</p><p><hi rend=\"i\">Le prêt aux boursiers du collège </hi>— Le fonds de la bibliothèque était destiné avant tout à servir aux études des\n",
      "            boursiers. Les livres leur étaient prêtés dès leur entrée au collège et circulaient en permanence. Parallèlement, l’existence de livres\n",
      "            enchaînés, et donc destinés à la consultation sur place, laisse penser qu’il y avait aux Cholets, comme à la Sorbonne ou au collège du\n",
      "            Trésorier, deux dépôts : l’un pour le prêt, l’autre pour la consultation sur place. Il n’est pas sûr que cette division matérielle ait\n",
      "            correspondu à une division intellectuelle entre ouvrages de référence et ouvrages plus spécialisés ou doubles, destinés au prêt. Seuls les\n",
      "            livres liturgiques, rangés dans la chapelle, faisaient assurément l’objet d’un dépôt séparé.</p><p><hi rend=\"i\">Le prêt à l’extérieur du collège </hi>— Bien que les statuts l’interdisent, le prêt à l’extérieur se pratiquait fréquemment\n",
      "            dans les différents collèges parisiens. Plusieurs exemples en sont attestés aux Cholets dès le <num>xiv<hi rend=\"sup\">e</hi></num> siècle. Le prêt\n",
      "            le plus remarquable est celui consenti à l’évêque de Senlis, Pierre Plaoul, en 1411 : dix-huit livres, que nous fait connaître une\n",
      "            reconnaissance d’emprunt conservée dans les archives du collège (Arch. nat., M 112, n° 9). En 1513, un manuscrit des Cholets est emprunté\n",
      "            à fin de copie. Ces exemples posent la question des modalités du prêt dans les bibliothèques de collèges au Moyen Age, de sa fréquence, de\n",
      "            sa nature. Le registre de prêt conservé pour le collège de Sorbonne (1402-1536) est un document exceptionnel, malheureusement trop rare\n",
      "            dans les autres bibliothèques.</p></div><div n=\"3\" type=\"chapter\"><head n=\"Chapitre III\">La vie de la bibliothèque</head><p><hi rend=\"i\">Les utilisateurs : les boursiers </hi>— Si tous les boursiers du collège n’ont pas été bienfaiteurs de la bibliothèque,\n",
      "            tous l’ont fréquentée à un moment ou un autre. Connaître les carrières de quelques-uns d’entre eux permet de mieux appréhender la place du\n",
      "            collège des Cholets, et par là de sa bibliothèque, dans l’ensemble des collèges parisiens contemporains. Plus de 15 % des boursiers des\n",
      "            Cholets entre 1295 et 1500 sont des gradués : licenciés ou docteurs, dont quatre évêques. Environ 30 % ont été chanoines d’un chapitre\n",
      "            cathédral, parmi lesquels 24 % sont des gradués. Beaucoup ont été recteurs de l’Université ou procureurs de la nation de Picardie. En\n",
      "            1398, ils sont présents au vote pour la soustraction d’obédience. Plusieurs ont également participé aux différents conciles du XV <hi rend=\"sup\">e</hi> siècle (Bâle, Bourges, etc.). D’autres enfin sont parvenus dans l’entourage des grands ou ont eu une activité\n",
      "            littéraire ou intellectuelle remarquable. Les bienfaiteurs de la bibliothèque se retrouvent dans toutes ces catégories.</p><p><hi rend=\"i\">Le rôle des bibliothécaires </hi>— Dans quelle mesure les « librarii » avaient-ils la charge des acquisitions, géraient-ils\n",
      "            les dons et les prêts, s’occupaient-ils du récolement annuel des volumes prescrit par les statuts Plusieurs exemples montrent que ces\n",
      "            tâches n’étaient pas toujours bien réparties et que, souvent, l’ensemble de la communauté y participait. Les manuscrits subsistants\n",
      "            permettent seuls de se faire une idée de la façon dont les livres étaient reliés, cotés, marqués au nom du collège. Les cotes médiévales\n",
      "            des volumes ne nous sont malheureusement pas connues. En revanche, les manuscrits subsistants portent tous des ex-libris, soit en latin :\n",
      "            « Iste liber est de domo scolarium de Choletis », « De collegio Choletorum Parisius », soit en français : « Du college des Cholés a Paris », qui correspondent à différentes phases de catalogage entre la fin du <num>xiv<hi rend=\"sup\">e</hi></num> siècle et le début du XVI <hi rend=\"sup\">e</hi> siècle.</p><p>Le rôle des bibliothécaires s’étendait peut-être aussi à la surveillance et à l’entretien des livres dispersés dans tout le collège ­ au\n",
      "            réfectoire, dans la chapelle… L’entretien quotidien de la salle de lecture (dépoussiérage des volumes, etc.) était confié à des\n",
      "            serviteurs, mais les bibliothécaires en principe en avaient seuls la clef et en contrôlaient les entrées. De plus, responsables des études\n",
      "            des petits boursiers (artiens), il est probable qu’ils organisaient pour eux, le soir, des répétitions qui ont pu avoir lieu dans la\n",
      "            bibliothèque.</p><p><hi rend=\"i\">La vie « intellectuelle » au sein du collège </hi>— Répétitions, leçons et disputes avaient lieu dans le collège et en\n",
      "            animaient la vie intellectuelle. Dans les marges des manuscrits subsistants, notes, schémas, remarques de toutes sortes, onglets de\n",
      "            parchemin permettant d’ouvrir le volume à la page voulue, sont autant d’indices de leur utilisation à des fins d’étude. Les manuscrits\n",
      "            personnels des boursiers, même quand ils n’ont pas fait partie de la bibliothèque commune, sont également de bons témoins de cette « vie\n",
      "            intellectuelle » et des centres d’intérêt des boursiers auxquels répondait en partie la bibliothèque.</p></div><div n=\"4\" type=\"chapter\"><head n=\"Chapitre IV\">Le contenu de la bibliothèque</head><p><hi rend=\"i\">Reconstitution du fonds </hi>— Les titres ayant composé la bibliothèque du collège des Cholets au Moyen Age n’étant connus\n",
      "            que par des sources dispersées et hétérogènes, il a paru bon de les rassembler de manière claire et synthétique. Le « tableau des ouvrages\n",
      "            présents dans la bibliothèque avant 1530 » donne donc, par ordre chronologique de leur apparition dans les sources ­ soit de leur entrée\n",
      "            au collège, en principe ­ la liste des livres de la bibliothèque établie à partir de l’ensemble des sources disponibles : testaments,\n",
      "            obituaires, manuscrits subsistants, témoignages d’érudits du <num>xvii<hi rend=\"sup\">e</hi></num> siècle, emprunts, etc.</p><p><hi rend=\"i\">La composition du fonds </hi>— L’analyse du contenu de la bibliothèque au Moyen Age s’appuie sur le tableau des ouvrages\n",
      "            présents dans la bibliothèque avant 1530, complété par les catalogues des manuscrits de la bibliothèque datant de l’époque moderne et par\n",
      "            les dix-neuf manuscrits subsistants ne comportant pas d’ex-libris antérieur au <num>xvii<hi rend=\"sup\">e</hi></num> siècle : tous ouvrages dont la\n",
      "            présence dans la bibliothèque n’est pas attestée avant l’époque moderne, mais qui en ont sûrement fait partie plus tôt. Cette analyse\n",
      "            repose d’abord sur une typologie des différentes œuvres contenues dans la bibliothèque, regroupées en quatre grandes catégories centrées\n",
      "            autour des quatre Facultés de l’Université : arts, théologie, médecine et droit, auxquelles s’ajoutent des champs plus spécifiques ou plus\n",
      "            transversaux comme la littérature, l’histoire ou le politique. Les conclusions tirées ensuite de cette typologie font ressortir la nette\n",
      "            prédominance de la théologie et, dans une moindre mesure, des arts, au détriment des autres domaines : constat qui n’a rien de surprenant\n",
      "            pour un collège du nord de la France. La bibliothèque contenait certes des Lettres de Nicolas de Clamanges, Virgile et Sénèque, Salluste,\n",
      "            Suétone et Florus, mais ces ouvrages reflètent peu le fonds général, dominé par la Bible et ses commentaires, par la théologie\n",
      "            scolastique, par les Distinctiones, sermons, sommes des vices et des vertus et par Aristote enfin, pour les arts. On aimerait, pour mieux\n",
      "            prendre la mesure de ce fonds, connaître de façon plus systématique la date d’entrée de chaque volume dans la bibliothèque du collège, ses\n",
      "            conditions d’acquisition (don, achat, copie), sa date de copie, etc. En l’absence de telles indications, il faut se contenter d’une vue\n",
      "            d’ensemble, qui donne l’image d’une bibliothèque de collège modeste, mais dynamique, adaptée aux besoins immédiats de ses boursiers,\n",
      "            étudiants des Facultés des arts et de théologie, et remplissant en cela le rôle qui lui était assigné.</p></div></div><div n=\"4\" type=\"part\"><head n=\"0\" type=\"chapter\">Le sort de la bibliothèque médiévale à l’époque moderne (environ 1530 - début du XIXesiècle)</head><div n=\"1\" type=\"chapter\"><head n=\"Chapitre premier\">Du milieu du <num>xvi<hi rend=\"sup\">e</hi></num> siècle à 1763</head><p>L’histoire de la bibliothèque à l’époque moderne est celle du fonds médiéval uniquement : elle ne prend donc pas en compte les nouveaux\n",
      "            volumes entrés dans la bibliothèque après 1530. Les premiers imprimés (incunables) de la bibliothèque, qui font partie du fonds médiéval,\n",
      "            sont souvent difficile à distinguer, dans la documentation, des autres imprimés plus tardifs : cette seconde partie ne concerne ainsi à\n",
      "            bien des égards que le fonds manuscrit de la bibliothèque des Cholets à l’époque moderne.</p><p><hi rend=\"i\">Les boursiers et leurs manuscrits </hi>— Les changements dans la composition du fonds et dans sa disposition ne se firent\n",
      "            que lentement et progressivement. Les imprimés ont d’abord complété le fonds manuscrit avant de le remplacer, et les manuscrits ne furent\n",
      "            pas vendus massivement. Le <num>xvii<hi rend=\"sup\">e</hi></num> siècle marque la véritable entrée de la bibliothèque dans l’époque moderne : en\n",
      "            1627, la construction d’un nouveau bâtiment fit disparaître l’ancienne bibliothèque médiévale ; en 1656, les chaînes furent retirées aux\n",
      "            volumes. Plusieurs manuscrits sont alors vendus. Parmi les manuscrits subsistants aujourd’hui, huit avaient quitté le collège avant 1763 :\n",
      "            les mss. Bibl. nat. de France, lat. 7941 et 15468 ont été vendus l’un à Pierre de Carcavi, garde de la Bibliothèque royale à partir de\n",
      "            1663, l’autre au collège de Sorbonne, probablement au <num>xviii<hi rend=\"sup\">e</hi></num> siècle ; six autres manuscrits ont été acquis entre 1710\n",
      "            et 1719 par le baron Georg Wilhelm Hohendorf, aide de camp du prince Eugène de Savoie.</p><p><hi rend=\"i\">Le regard des visiteurs extérieurs </hi>— Aux <num>xvii<hi rend=\"sup\">e</hi></num> et <num>xviii<hi rend=\"sup\">e</hi></num> siècles, les\n",
      "            manuscrits, que le collège n’hésitait pas à vendre en cas de besoin, étaient dans le même temps devenus des objets d’intérêt pour de\n",
      "            nombreux érudits, qui, venus au collège pour les voir, ont laissé un témoignage précieux sur la bibliothèque à cette époque. Le premier,\n",
      "            Louis Bail, boursier des Cholets à la fin du <num>xvii<hi rend=\"sup\">e</hi></num> siècle, évoque les manuscrits dans un ouvrage, Sapientia foris\n",
      "            prædicans, paru en 1666. Il les trouve alors en mauvais état, sans reliure et couverts d’insectes. Casimir Oudin mentionne également\n",
      "            plusieurs manuscrits des Cholets dans son Commentarius de Scriptoribus Ecclesiæ antiquis, publié cinq ans après sa mort en 1722. Les\n",
      "            Scriptores Ordinis Prædicatorum de Quétif et Echard font aussi allusion à un manuscrit des Cholets. Enfin Jean Lebeuf, au début du XVIII\n",
      "<hi rend=\"sup\">e</hi> siècle, se souvient d’un manuscrit des Cholets en rédigeant le catalogue des manuscrits de l’abbaye de Pontigny.</p><p><hi rend=\"i\">La réforme de 1706 et les visites des grands-maîtres </hi>— Les visites du collège par ses « grands-maîtres », délégués des\n",
      "            chapitres de Beauvais et d’Amiens, qui étaient prévues dans les premiers statuts de fondation, n’ont laissé aucune trace pour la période\n",
      "            médiévale et semblent avoir été pratiquement inexistantes aux <num>xvi<hi rend=\"sup\">e</hi></num> et <num>xvii<hi rend=\"sup\">e</hi></num> siècles, avant que\n",
      "            la « réforme » de 1706 ne les remette en vigueur. Cette révision est la traduction, aux Cholets, d’un mouvement de réforme initié par le\n",
      "            Parlement au début du <num>xviii<hi rend=\"sup\">e</hi></num> siècle dans le but de lutter contre le relâchement de la discipline et des études qui se\n",
      "            manifestait dans la plupart des collèges parisiens. L’arrêt rendu en janvier 1706 pour le collège des Cholets ne fut cependant suivi\n",
      "            d’aucune vraie mesure, et sa seule conséquence notable fut de rendre par la suite plus fréquentes les visites des grands-maîtres, soucieux\n",
      "            de ne pas voir se reproduire cette ingérence du Parlement dans leurs affaires. Ces visites donnaient lieu à des procès-verbaux rédigés en\n",
      "            plusieurs exemplaires. Certaines parties rendent compte de la visite de la chapelle et de la bibliothèque ; les conclusions sont parfois\n",
      "            intéressantes pour la bibliothèque. Il arrive que les manuscrits y soient spécifiquement évoqués.</p></div><div n=\"2\" type=\"chapter\"><head n=\"Chapitre II\">Les catalogues</head><p>Trois catalogues modernes, antérieurs à 1763, sont aujourd’hui conservés, ainsi qu’une liste de livres, par ordre alphabétique,\n",
      "            intitulée « Index alphabeticus librorum manuscriptorum bibliothecæ Choleteæ ». Ce sont des documents de nature différente : les uns sont\n",
      "            le fruit du travail d’érudits des <num>xvii<hi rend=\"sup\">e</hi></num> et <num>xviii<hi rend=\"sup\">e</hi></num> siècles ne s’attachant qu’aux manuscrits, les\n",
      "            autres sont des documents d’administration produits par le collège lui-même et s’intéressant à la bibliothèque dans son ensemble. Tous\n",
      "            sont postérieurs au Moyen Age. Une étude critique de chacun d’eux est donc indispensable pour leur prise en compte dans l’histoire de la\n",
      "            bibliothèque médiévale.</p><p><hi rend=\"i\">(Paris, Bibl. nat. de France, Arsenal 4630, fol. 280-286v) </hi>— Ce catalogue, le plus ancien conservé, est issu du\n",
      "            recueil de catalogues de bibliothèques dressé par le Père Ch. Le Tonnellier entre 1650 et 1675. Il est aussi le plus détaillé, citant les\n",
      "            incipit ou explicit des cent-un manuscrits, donnant son avis à tout propos. Il montre qu’au <num>xvii<hi rend=\"sup\">e</hi></num> siècle, les\n",
      "            manuscrits étaient cotés par lettres, allant de « a » pour le premier volume à « eeeeee » pour le dernier.</p><p><hi rend=\"i\">(Paris, Bibl. nat. de France, lat. 13068, fol. 224-225v) </hi>— Présent dans les « dossiers Montfaucon », ce catalogue ne\n",
      "            figure pourtant pas dans la Bibliotheca bibliothecarum parue en 1739. C’est le plus court des trois catalogues : il ne recense que\n",
      "            soixante-quinze volumes. Le témoignage de Casimir Oudin au <num>xviii<hi rend=\"sup\">e</hi></num> siècle prouve que la numérotation qu’il comporte\n",
      "            correspond bien à des cotes.</p><p><hi rend=\"i\">(Paris, Arch. nat. S 6183, p. 21-27) </hi>— Ce catalogue, daté de mai 1710, est le seul à envisager les manuscrits, au\n",
      "            nombre de cent-neuf, avec les autres volumes de la bibliothèque. Conservé dans les archives du collège, il est sans doute de la main de\n",
      "            l’un des bibliothécaires.</p><p><hi rend=\"i\">(Paris, Arch. Nat. S 6402<hi rend=\"sup\">A</hi> , d. 2) </hi>— Cette liste a été établie au <num>xviii<hi rend=\"sup\">e</hi></num>\n",
      "            siècle. Les manuscrits y sont au nombre de trente-trois, dont vingt-quatre correspondent à des manuscrits subsistants : ce chiffre\n",
      "            reflète, mieux que ceux des catalogues précédents, la situation actuelle, et conduit à proposer une date de rédaction tardive, peu avant\n",
      "            1763-1764. Les cotes mentionnées n’ont aucun équivalent dans les autres catalogues, ni dans les manuscrits subsistants.</p></div><div n=\"3\" type=\"chapter\"><head n=\"Chapitre III\">De 1763 au début du <num>xix<hi rend=\"sup\">e</hi></num> siècle</head><p><hi rend=\"i\">La réunion au collège Louis-le-Grand (juillet-août 1764) </hi>— Le désordre régnant dans les collèges parisiens, qui avait\n",
      "            conduit le Parlement à intervenir dès le début dusiècle, aboutit en novembre 1763 à la suppression de vingt-huit collèges parisiens de\n",
      "            « non-plein » exercice : leurs biens et leurs boursiers devaient être regroupés sous une administration commune au sein du collège\n",
      "            Louis-le-Grand, demeuré vide après que la Compagnie de Jésus s’était vu retirer tous ses collèges en août 1762. Avec le collège de Laon,\n",
      "            celui des Cholets fut le seul à s’opposer à cette réunion. Son opposition s’est traduite par la rédaction de nombreux mémoires et\n",
      "            l’apposition systématique, sur tous ses volumes, du mot « domus » à la place de « collegii » dans les ex-libris, afin de marquer son\n",
      "            statut de « maison » de théologie à l’exemple du collège de Sorbonne, non rattaché. Ce fut en vain, et le collège finit par être réuni en\n",
      "            juillet-août 1764. Le déménagement de la bibliothèque dans les bâtiments du collège Louis-le-Grand eut lieu en septembre 1764.</p><p><hi rend=\"i\">La formation de la bibliothèque de l’Université </hi>— En novembre 1763, le collège Louis-le-Grand, lieu de rattachement\n",
      "            des anciens collèges supprimés, devint aussi le siège de l’Université de Paris, qui ne disposait pas jusqu’alors de locaux propres. Un\n",
      "            problème de place se fit aussitôt jour. La nouvelle bibliothèque de Louis-le-Grand, formée de la réunion des bibliothèques des vingt-huit\n",
      "            anciens collèges, revendiquait l’emplacement que l’Université cherchait également à obtenir pour sa propre bibliothèque, qui commençait à\n",
      "            se constituer dans ces années-là. Le conflit dura jusqu’en 1765. En mai 1765, le Parlement homologua un accord, véritable acte de\n",
      "            naissance de la bibliothèque de l’Université. Sous cette appellation étaient réunies les deux bibliothèques, de Louis-le-Grand et de\n",
      "            l’Université, dont l’administration était confiée à la seule Université. Les deux fonds restaient cependant distincts, Louis-le-Grand\n",
      "            pouvait estampiller ses volumes à ses armes et disposait de son propre catalogue. Le catalogue particulier de Louis-le-Grand et celui,\n",
      "            général, de l’Université, rédigés après 1765, permettent de suivre les manuscrits des Cholets à cette date.</p><p><hi rend=\"i\">La Révolution et le début du <num>xix<hi rend=\"sup\">e</hi></num> siècle </hi>— La bibliothèque du « Collège Egalité »\n",
      "            (Louis-le-Grand) fut transportée au dépôt littéraire Louis-la-Culture en mai 1794. Un catalogue des manuscrits fut rédigé à cette\n",
      "            occasion. Dès 1796 cependant, la plupart des volumes avaient regagné la rue Saint-Jacques. Le <num>xix<hi rend=\"sup\">e</hi></num> siècle fut,\n",
      "            excepté deux déménagements, une période de grande stabilité. La dispersion de quelques manuscrits ne relève plus que de l’histoire\n",
      "            individuelle de chaque exemplaire.</p></div></div><div type=\"conclusion\" n=\"5\"><head>Conclusion</head><p>La principale difficulté de cette étude était de reconstituer le contenu de la bibliothèque au Moyen Age, en l’absence de catalogue\n",
      "          médiéval. La richesse du fonds d’archives des Cholets a permis de réunir la liste de près d’une centaine de volumes. Il resterait à\n",
      "          approfondir l’étude des incunables et des premiers imprimés de la bibliothèque. Enfin, l’étude des autres bibliothèques de collèges\n",
      "          contemporains apporterait des éléments de comparaison qui manquent encore très largement.</p></div><div type=\"appendix\" n=\"6\"><head>Pièces justificatives</head><p>Edition des catalogues A, B et C et de la partie de l’Index librorum bibliothecæ Choleteæ qui concerne les manuscrits. ­ Reconnaissance\n",
      "          d’emprunt de Pierre Plaoul, et, à titre de comparaison, état de ses emprunts à la Sorbonne. ­ Extraits de : Bibliothèque Mazarine, ms 1068\n",
      "          (texte copié sur un ms. des Cholets) ; de Casimir Oudin, Commentarius de Scriptoribus Ecclesiæ antiquis ; des archives du collège en\n",
      "          1705-1706 ; des catalogues postérieurs à 1765 (bibliothèque de la Sorbonne, ms. 114, et Bibl. nat. de France, Arsenal, ms 6267 et 6492). ­\n",
      "          Ex-libris de l’époque médiévale et moderne. ­ Blason des Cholets.</p></div></body></text></TEI>\n"
     ]
    }
   ],
   "source": [
    "Cholet_Full_Text = requests.get(\n",
    "    urljoin(URI, Cholets_Edition_Collection[\"dts:passage\"])\n",
    ")\n",
    "print(\n",
    "    urljoin(URI, Cholets_Edition_Collection[\"dts:passage\"])\n",
    ")\n",
    "print(Cholet_Full_Text.text)"
   ]
  }
 ],
 "metadata": {
  "kernelspec": {
   "display_name": "Python 3",
   "language": "python",
   "name": "python3"
  },
  "language_info": {
   "codemirror_mode": {
    "name": "ipython",
    "version": 3
   },
   "file_extension": ".py",
   "mimetype": "text/x-python",
   "name": "python",
   "nbconvert_exporter": "python",
   "pygments_lexer": "ipython3",
   "version": "3.6.7"
  },
  "toc": {
   "base_numbering": 1,
   "nav_menu": {},
   "number_sections": true,
   "sideBar": true,
   "skip_h1_title": false,
   "title_cell": "Table of Contents",
   "title_sidebar": "Contents",
   "toc_cell": false,
   "toc_position": {},
   "toc_section_display": true,
   "toc_window_display": true
  }
 },
 "nbformat": 4,
 "nbformat_minor": 2
}
