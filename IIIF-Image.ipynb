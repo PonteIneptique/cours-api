{
 "cells": [
  {
   "cell_type": "markdown",
   "metadata": {},
   "source": [
    "IIIF : Image\n",
    "========\n"
   ]
  },
  {
   "cell_type": "code",
   "execution_count": 33,
   "metadata": {},
   "outputs": [],
   "source": [
    "import requests  # Permet de faire des requêtes webs\n",
    "from IPython.display import Image, display\n",
    "from IPython.core.display import HTML \n",
    "\n",
    "URLTemplate = \"{scheme}://{server}{prefix}/{identifier}\" \\\n",
    "                  \"/{region}/{size}/{rotation}/{quality}.{extension}\"\n",
    "def show(scheme, server, prefix, identifier, region, size, roation, quality, extension):\n",
    "    request_URI = URLTemplate.format(scheme=scheme,\n",
    "        server=server,\n",
    "        prefix=prefix,\n",
    "        identifier=identifier,\n",
    "        region=region,\n",
    "        size=size,\n",
    "        rotation=rotation,\n",
    "        quality=quality,\n",
    "        extension=extension\n",
    "    )\n",
    "    print(\"Target URI \" + request_URI)\n",
    "    display(Image(url=request_URI))"
   ]
  },
  {
   "cell_type": "markdown",
   "metadata": {},
   "source": [
    "Configuration"
   ]
  },
  {
   "cell_type": "code",
   "execution_count": null,
   "metadata": {},
   "outputs": [],
   "source": [
    "# https://images.britishart.yale.edu/iiif/b38081da-8991-4464-a71e-d9891226a35f/full/full/0/native.jpg\n",
    "scheme=\"http\"\n",
    "server=\"images.britishart.yale.edu\"\n",
    "prefix=\"/iiif\"\n",
    "identifier=\"b38081da-8991-4464-a71e-d9891226a35f\"\n",
    "region=\"full\"\n",
    "size=\"full\"\n",
    "rotation=0\n",
    "quality=\"default\"\n",
    "extension=\"jpg\""
   ]
  },
  {
   "cell_type": "markdown",
   "metadata": {},
   "source": [
    "Image par défaut"
   ]
  },
  {
   "cell_type": "code",
   "execution_count": 44,
   "metadata": {},
   "outputs": [
    {
     "name": "stdout",
     "output_type": "stream",
     "text": [
      "Target URI http://images.britishart.yale.edu/iiif/61657fd5-c50c-49ab-8d80-c9eea6d86a80/full/full/0/native.jpg\n"
     ]
    },
    {
     "data": {
      "text/html": [
       "<img src=\"http://images.britishart.yale.edu/iiif/61657fd5-c50c-49ab-8d80-c9eea6d86a80/full/full/0/native.jpg\"/>"
      ],
      "text/plain": [
       "<IPython.core.display.Image object>"
      ]
     },
     "metadata": {},
     "output_type": "display_data"
    }
   ],
   "source": [
    "show(scheme, server, prefix, identifier, region, size, rotation, quality, extension)"
   ]
  },
  {
   "cell_type": "markdown",
   "metadata": {},
   "source": [
    "Zone de l'image : juste le texte de la colonne de gauche"
   ]
  },
  {
   "cell_type": "code",
   "execution_count": 45,
   "metadata": {},
   "outputs": [
    {
     "name": "stdout",
     "output_type": "stream",
     "text": [
      "Target URI http://images.britishart.yale.edu/iiif/61657fd5-c50c-49ab-8d80-c9eea6d86a80/440,660,1000,3040/full/0/native.jpg\n"
     ]
    },
    {
     "data": {
      "text/html": [
       "<img src=\"http://images.britishart.yale.edu/iiif/61657fd5-c50c-49ab-8d80-c9eea6d86a80/440,660,1000,3040/full/0/native.jpg\"/>"
      ],
      "text/plain": [
       "<IPython.core.display.Image object>"
      ]
     },
     "metadata": {},
     "output_type": "display_data"
    }
   ],
   "source": [
    "show(scheme, server, prefix, identifier, \"440,660,1000,3040\", size, rotation, quality, extension)"
   ]
  }
 ],
 "metadata": {
  "kernelspec": {
   "display_name": "Python 3",
   "language": "python",
   "name": "python3"
  },
  "language_info": {
   "codemirror_mode": {
    "name": "ipython",
    "version": 3
   },
   "file_extension": ".py",
   "mimetype": "text/x-python",
   "name": "python",
   "nbconvert_exporter": "python",
   "pygments_lexer": "ipython3",
   "version": "3.6.7"
  }
 },
 "nbformat": 4,
 "nbformat_minor": 2
}
