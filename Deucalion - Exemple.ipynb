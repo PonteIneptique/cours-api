{
 "cells": [
  {
   "cell_type": "markdown",
   "metadata": {},
   "source": [
    "Deucalion\n",
    "========\n",
    "\n",
    "Toutes les APIs n'ont pas vocation à fournir des données. Certaines fournissent des services !\n",
    "\n",
    "Ceci est un exemple d'usage de l'API Deucalion, fournie pour lemmatiser de l'[Ancien Francais](https://github.com/chartes/deucalion-model-af) ou du [latin](https://github.com/chartes/deucalion-model-lasla)"
   ]
  },
  {
   "cell_type": "code",
   "execution_count": 1,
   "metadata": {},
   "outputs": [],
   "source": [
    "import requests  # Permet de faire des requêtes webs\n",
    "URL = \"http://localhost:5001/api\""
   ]
  },
  {
   "cell_type": "markdown",
   "metadata": {},
   "source": [
    "On prépare notre texte à lemmatiser :"
   ]
  },
  {
   "cell_type": "code",
   "execution_count": 4,
   "metadata": {},
   "outputs": [],
   "source": [
    "data = \"\"\"Pedicat pueros tribas Philaenis\n",
    "Et tentigine saevior mariti\n",
    "Undenas dolat in die puellas.\n",
    "Harpasto quoque subligata ludit,\n",
    "Et flavescit haphe, gravesque draucis\n",
    "Halteras facili rotat lacerto,\n",
    "Et putri lutulenta de palaestra\n",
    "Uncti verbere vapulat magistri:\n",
    "Nec cenat prius aut recumbit ante,\n",
    "Quam septem vomuit meros deunces;\n",
    "Ad quos fas sibi tunc putat redire,\n",
    "Cum coloephia sedecim comedit.\n",
    "Post haec omnia cum libidinatur,\n",
    "Non fellat, putat hoc parum virile,\n",
    "Sed plane medias vorat puellas.\n",
    "Di mentem tibi dent tuam, Philaeni,\n",
    "Cunnum lingere quae putas virile.\n",
    "\"\"\""
   ]
  },
  {
   "cell_type": "markdown",
   "metadata": {},
   "source": [
    "L'API Deucalion prend comme paramètres en requête POST un paramètre `data` correspond au texte :"
   ]
  },
  {
   "cell_type": "code",
   "execution_count": 5,
   "metadata": {},
   "outputs": [
    {
     "name": "stdout",
     "output_type": "stream",
     "text": [
      "token\tlemma\tPOS\tmorph\ttreated_token\r\n",
      "Pedicat\tPEDICO\tVER\tNumb=Sing|Mood=Ind|Tense=Pres|Voice=Act|Person=3\tPedicat\r\n",
      "pueros\tPVER\tNOM2\tCase=Acc|Numb=Plur\tpueros\r\n",
      "tribas\tTRIBA\tNOM1\tCase=Acc|Numb=Plur\ttribas\r\n",
      "Philaenis\tPHILAENI\tNOM2\tCase=Abl|Numb=Plur\tPhilaenis\r\n",
      "Et\tET\tCONcoo\tMORPH=empty\tEt\r\n",
      "tentigine\tTENTIGO\tNOM3\tCase=Abl|Numb=Sing\ttentigine\r\n",
      "saevior\tSAEVVS\tADJqua\tCase=Nom|Numb=Sing|Deg=Comp|Gend=MascFem\tsaeuior\r\n",
      "mariti\tMARITVS\tNOM2\tCase=Gen|Numb=Sing\tmariti\r\n",
      "Undenas\tDNEDENVS\tADJqua\tCase=Acc|Numb=Plur|Deg=Pos|Gend=Fem\tUndenas\r\n",
      "dolat\tDOLO\tVER\tNumb=Sing|Mood=Ind|Tense=Pres|Voice=Act|Person=3\tdolat\r\n",
      "in\tIN\tPRE\tMORPH=empty\tin\r\n",
      "die\tDIES\tNOM5\tCase=Abl|Numb=Sing\tdie\r\n",
      "puellas\tPVELLA\tNOM1\tCase=Acc|Numb=Plur\tpuellas\r\n",
      ".\t.\tPUNC\tMORPH=empty\t.\r\n",
      "Harpasto\tHARPASTVS\tNOM2\tCase=Dat|Numb=Sing\tHarpasto\r\n",
      "quoque\tQVI\tPROrel\tCase=Abl|Gend=MascNeut\tquo\r\n",
      "subligata\tSVBLIGO\tVER\tCase=Nom|Numb=Sing|Mood=Par|Tense=Perf|Voice=Pass|Gend=Neut\tsubligata\r\n",
      "ludit\tLVDO\tVER\tNumb=Sing|Mood=Ind|Tense=Pres|Voice=Act|Person=3\tludit\r\n",
      ",\t,\tPUNC\tMORPH=empty\t,\r\n",
      "Et\tET\tNOM2\tNumb=Sing\tEt\r\n",
      "flavescit\tFLAVESCO\tVER\tNumb=Sing|Mood=Ind|Tense=Pres|Voice=Act|Person=3\tflauescit\r\n",
      "haphe\tHAPHVS\tNOM7\tCase=Nom|Numb=Sing\thaphe\r\n",
      ",\t,\tPUNC\tMORPH=empty\t,\r\n",
      "gravesque\tGRAVIS\tADJqua\tCase=Acc|Numb=Plur|Deg=Pos|Gend=MascFem\tgraues\r\n",
      "draucis\tDRAVCVS\tADJqua\tCase=Abl|Numb=Plur|Deg=Pos|Gend=Com\tdraucis\r\n",
      "Halteras\tHALTERA\tNOM1\tCase=Acc|Numb=Plur\tHalteras\r\n",
      "facili\tFACILIS\tADJqua\tCase=Abl|Numb=Sing|Deg=Pos|Gend=Com\tfacili\r\n",
      "rotat\tROTO\tVER\tNumb=Sing|Mood=Ind|Tense=Pres|Voice=Act|Person=3\trotat\r\n",
      "lacerto\tLACERTVS\tNOM2\tCase=Abl|Numb=Sing\tlacerto\r\n",
      ",\t,\tPUNC\tMORPH=empty\t,\r\n",
      "Et\tET\tNOM2\tNumb=Sing\tEt\r\n",
      "putri\tPVTRIS\tADJqua\tCase=Abl|Numb=Sing|Deg=Pos|Gend=Com\tputri\r\n",
      "lutulenta\tLVTVLENTVS\tADJqua\tCase=Abl|Numb=Sing|Deg=Pos|Gend=Fem\tlutulenta\r\n",
      "de\tDE\tPRE\tMORPH=empty\tde\r\n",
      "palaestra\tPALAESTRA\tNOM1\tCase=Abl|Numb=Sing\tpalaestra\r\n",
      "Uncti\tINCTVS\tADJqua\tCase=Gen|Numb=Sing|Mood=Par|Gend=MascNeut\tUncti\r\n",
      "verbere\tVERBER\tNOM3\tCase=Abl|Numb=Sing\tuerbere\r\n",
      "vapulat\tVAPVLO\tVER\tNumb=Sing|Mood=Ind|Tense=Pres|Voice=Act|Person=3\tuapulat\r\n",
      "magistri\tMAGISTER\tNOM2\tCase=Gen|Numb=Sing\tmagistri\r\n",
      ":\t:\tPUNC\tMORPH=empty\t:\r\n",
      "Nec\tNEC\tNOM3\tCase=Acc|Numb=Sing\tNec\r\n",
      "cenat\tCENO\tVER\tNumb=Sing|Mood=Ind|Tense=Pres|Voice=Act|Person=3\tcenat\r\n",
      "prius\tPRIVS\tADJadv.ord\tDeg=Comp\tprius\r\n",
      "aut\tAVT\tCONcoo\tMORPH=empty\taut\r\n",
      "recumbit\tRECVMBO\tVER\tNumb=Sing|Mood=Ind|Tense=Pres|Voice=Act|Person=3\trecumbit\r\n",
      "ante\tANTE\tPRE\tMORPH=empty\tante\r\n",
      ",\t,\tPUNC\tMORPH=empty\t,\r\n",
      "Quam\tQVI\tPROrel\tCase=Acc|Numb=Sing\tQuam\r\n",
      "septem\tSEPTEM\tADJcar\tCase=Ind\tseptem\r\n",
      "vomuit\tVOMO\tVER\tNumb=Sing|Mood=Ind|Tense=Perf|Voice=Act|Person=3\tuomuit\r\n",
      "meros\tMERVS\tADJqua\tCase=Acc|Numb=Plur|Deg=Pos|Gend=Masc\tmeros\r\n",
      "deunces\tDEVNCO\tVER\tNumb=Sing|Tense=Pres|Voice=Act|Person=2\tdeunces\r\n",
      ";\t;\tPUNC\tMORPH=empty\t;\r\n",
      "Ad\tAD\tNOM2\tCase=Acc|Numb=Sing\tAd\r\n",
      "quos\tQVI\tPROrel\tCase=Acc|Numb=Plur|Gend=Masc\tquos\r\n",
      "fas\tFAS\tNOM6\tCase=Ind\tfas\r\n",
      "sibi\tSVI\tPROref\tCase=Dat|Numb=Sing\tsibi\r\n",
      "tunc\tTVNC\tADV\tDeg=Pos\ttunc\r\n",
      "putat\tPVTO\tVER\tNumb=Sing|Mood=Ind|Tense=Pres|Voice=Act|Person=3\tputat\r\n",
      "redire\tREDEO\tVER\tMood=Inf|Tense=Pres|Voice=Act\tredire\r\n",
      ",\t,\tPUNC\tMORPH=empty\t,\r\n",
      "Cum\tCVM\tNOM2\tCase=Acc|Numb=Sing\tCum\r\n",
      "coloephia\tCOLOEPHIA\tNOM1\tCase=Acc|Numb=Plur\tcoloephia\r\n",
      "sedecim\tSEDECIM\tADJcar\tCase=Ind\tsedecim\r\n",
      "comedit\tCOMEDO\tVER\tNumb=Sing|Mood=Ind|Tense=Perf|Voice=Act|Person=3\tcomedit\r\n",
      ".\t.\tPUNC\tMORPH=empty\t.\r\n",
      "Post\tPOST\tNOM7\tCase=Nom|Numb=Sing\tPost\r\n",
      "haec\tHIC\tPROdem\tCase=Nom|Numb=Plur|Gend=Neut\thaec\r\n",
      "omnia\tOMNIS\tPROind\tCase=Acc|Numb=Plur|Gend=Neut\tomnia\r\n",
      "cum\tCVM\tCONsub\tMORPH=empty\tcum\r\n",
      "libidinatur\tLIBIDINOR\tVER\tNumb=Sing|Mood=Ind|Tense=Pres|Voice=Dep|Person=3\tlibidinatur\r\n",
      ",\t,\tPUNC\tMORPH=empty\t,\r\n",
      "Non\tNON\tNOM3\tCase=Acc|Numb=Sing\tNon\r\n",
      "fellat\tFELLO\tVER\tNumb=Sing|Mood=Ind|Tense=Pres|Voice=Act|Person=3\tfellat\r\n",
      ",\t,\tPUNC\tMORPH=empty\t,\r\n",
      "putat\tPVTO\tVER\tNumb=Sing|Mood=Ind|Tense=Pres|Voice=Act|Person=3\tputat\r\n",
      "hoc\tHIC\tPROdem\tCase=Acc|Numb=Sing|Gend=Neut\thoc\r\n",
      "parum\tPARVM\tADV\tDeg=Pos\tparum\r\n",
      "virile\tVIRILIS\tADJqua\tCase=Acc|Numb=Sing|Deg=Pos|Gend=Neut\tuirile\r\n",
      ",\t,\tPUNC\tMORPH=empty\t,\r\n",
      "Sed\tSEDES\tNOM2\tCase=Abl|Numb=Sing\tSed\r\n",
      "plane\tPLANE\tADV\tDeg=Pos\tplane\r\n",
      "medias\tMEDIVS\tADJqua\tCase=Acc|Numb=Plur|Deg=Pos|Gend=Fem\tmedias\r\n",
      "vorat\tVORO\tVER\tNumb=Sing|Mood=Ind|Tense=Pres|Voice=Act|Person=3\tuorat\r\n",
      "puellas\tPVELLA\tNOM1\tCase=Acc|Numb=Plur\tpuellas\r\n",
      ".\t.\tPUNC\tMORPH=empty\t.\r\n",
      "Di\tDICENTI\tNOM2\tCase=Nom|Numb=Plur\tDi\r\n",
      "mentem\tMENS\tNOM3\tCase=Acc|Numb=Sing\tmentem\r\n",
      "tibi\tTV\tPROper\tCase=Dat|Numb=Sing\ttibi\r\n",
      "dent\tDO\tVER\tNumb=Plur|Mood=Sub|Tense=Pres|Voice=Act|Person=3\tdent\r\n",
      "tuam\tTVVS\tPROpos\tCase=Acc|Numb=Sing|Gend=Fem\ttuam\r\n",
      ",\t,\tPUNC\tMORPH=empty\t,\r\n",
      "Philaeni\tPHILAENVS\tNOM2\tCase=Gen|Numb=Sing\tPhilaeni\r\n",
      ",\t,\tPUNC\tMORPH=empty\t,\r\n",
      "Cunnum\tCVNNVS\tNOM2\tCase=Acc|Numb=Sing\tCunnum\r\n",
      "lingere\tLINGO\tVER\tMood=Inf|Tense=Pres|Voice=Act\tlingere\r\n",
      "quae\tQVI\tPROrel\tCase=Acc|Numb=Plur|Gend=Neut\tquae\r\n",
      "putas\tPVTO\tVER\tNumb=Sing|Mood=Ind|Tense=Pres|Voice=Act|Person=2\tputas\r\n",
      "virile\tVIRILIS\tADJqua\tCase=Acc|Numb=Sing|Deg=Pos|Gend=Neut\tuirile\r\n",
      ".\t.\tPUNC\tMORPH=empty\t.\r\n",
      "\n"
     ]
    }
   ],
   "source": [
    "print(requests.post(URL, data={\"data\": data}).text)"
   ]
  }
 ],
 "metadata": {
  "kernelspec": {
   "display_name": "Python 3",
   "language": "python",
   "name": "python3"
  },
  "language_info": {
   "codemirror_mode": {
    "name": "ipython",
    "version": 3
   },
   "file_extension": ".py",
   "mimetype": "text/x-python",
   "name": "python",
   "nbconvert_exporter": "python",
   "pygments_lexer": "ipython3",
   "version": "3.6.7"
  }
 },
 "nbformat": 4,
 "nbformat_minor": 2
}
